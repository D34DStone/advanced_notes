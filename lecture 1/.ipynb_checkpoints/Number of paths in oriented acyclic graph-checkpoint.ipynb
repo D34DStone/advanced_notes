{
 "cells": [
  {
   "cell_type": "markdown",
   "metadata": {},
   "source": [
    "# Задача о количестве путей в ациклическом ореинтированом графе\n"
   ]
  },
  {
   "cell_type": "markdown",
   "metadata": {},
   "source": [
    "### Наивное решение:\n",
    "Пусть $solve(s)$ - количество путей из $s$ в $f$. Очевидно, что количество путей равно сумме путей между детьми вершины до $t$. Запишем это формально:\n",
    "\n",
    "$$\n",
    "solve(s) = \n",
    "\\left\\{ \n",
    "\\begin{array}{lr}\n",
    "    1, s = t \\\\ \n",
    "    \\sum\\limits_{v:s→v}solve(v)\n",
    "\\end{array}\n",
    "\\right. \n",
    "$$\n",
    "\n",
    "Однако решение будет достаточно медленное. Можно придумать графы, на которых необходимо будет сделать $2^{n/2}$ итераций."
   ]
  },
  {
   "cell_type": "code",
   "execution_count": 3,
   "metadata": {},
   "outputs": [],
   "source": [
    "def solution(s, f, edges):\n",
    "    def solve(s):\n",
    "        if s == f:\n",
    "            return 1\n",
    "\n",
    "        result = 0\n",
    "        for v in edges[s]:\n",
    "            result += solve(v)\n",
    "\n",
    "        return result\n",
    "    \n",
    "    return solve(s)"
   ]
  },
  {
   "cell_type": "code",
   "execution_count": 4,
   "metadata": {},
   "outputs": [
    {
     "data": {
      "text/plain": [
       "4"
      ]
     },
     "execution_count": 4,
     "metadata": {},
     "output_type": "execute_result"
    }
   ],
   "source": [
    "edges = {\n",
    "    1: [2, 3, 4],\n",
    "    2: [3, 4], \n",
    "    3: [4]\n",
    "}\n",
    "\n",
    "start = 1\n",
    "finish = 4\n",
    "\n",
    "solution(start, finish, edges)"
   ]
  },
  {
   "cell_type": "markdown",
   "metadata": {},
   "source": [
    "### Кэширование результатов\n",
    "Можно заметить, что походу исполнения нашего решения, функция ```solve``` может быть вызванна несколько раз с одинаковым входным аргументом. (Изменяется только параметр $s$). Давайте перепишем эту функицю:"
   ]
  },
  {
   "cell_type": "code",
   "execution_count": 24,
   "metadata": {},
   "outputs": [],
   "source": [
    "def solution(s, f, edges):\n",
    "    cache = {f: 1}\n",
    "    \n",
    "    def solve(s):\n",
    "        if not s in cache:\n",
    "            cache[s] = sum(map(solve, edges[s]))\n",
    "        \n",
    "        return cache[s]\n",
    "        \n",
    "    return solve(s)"
   ]
  },
  {
   "cell_type": "code",
   "execution_count": 25,
   "metadata": {},
   "outputs": [
    {
     "data": {
      "text/plain": [
       "4"
      ]
     },
     "execution_count": 25,
     "metadata": {},
     "output_type": "execute_result"
    }
   ],
   "source": [
    "edges = {\n",
    "    1: [2, 3, 4],\n",
    "    2: [3, 4], \n",
    "    3: [4]\n",
    "}\n",
    "\n",
    "start = 1\n",
    "finish = 4\n",
    "\n",
    "solution(start, finish, edges)"
   ]
  },
  {
   "cell_type": "markdown",
   "metadata": {},
   "source": [
    "Таким образом асимптотика нашего решения будет $O(n)$, где $n$ - количество вершин в данном графе. Это верно т.к. каждую вершину мы будем обрабатывать не более чем 1 раз."
   ]
  },
  {
   "cell_type": "markdown",
   "metadata": {},
   "source": [
    "# Задача о поиске кратчайшего пути в ациклическом графе\n",
    "\n",
    "Пусть $solve(s)$ это длинна минимального пути от вершины $s$ до $t$. Очевидно, что путь от вершины $t$ это 0. Пусть $E$ - множество ребер, которые выходят из $s$. Тогда $ e_{len} + solve(e_{dest})$ где $e ∈ E$ это длинна минимального пути от $s$ до $t$ если мы пройдем через ребро $e$. Таким образом, минимальный путь из $s$ в $t = \\min\\limits_{e∈E}\\{e_{len} + solve(e_{dest})\\}$. Запишем это формально:\n",
    "\n",
    "\n",
    "$$\n",
    "solve(s) = \n",
    "\\left\\{ \n",
    "\\begin{array}{lr}\n",
    "    0, s = t \\\\ \n",
    "    \\min\\limits_{e∈E}\\{e_{len} + solve(e_{dest})\\}\n",
    "\\end{array}\n",
    "\\right. \n",
    "$$"
   ]
  },
  {
   "cell_type": "code",
   "execution_count": 26,
   "metadata": {},
   "outputs": [],
   "source": [
    "class Edge:\n",
    "    len = None \n",
    "    dest = None \n",
    "    \n",
    "    def __init__(self, dest, len):\n",
    "        self.len = len\n",
    "        self.dest = dest\n",
    "\n",
    "        \n",
    "def solution(s, f, edges):\n",
    "    cache = {f: 0}\n",
    "    \n",
    "    def solve(s):\n",
    "        if not s in cache:\n",
    "            cache[s] = min(map(lambda e: e.len + solve(e.dest), edges[s]))\n",
    "        \n",
    "        return cache[s]\n",
    "        \n",
    "    return solve(s)"
   ]
  },
  {
   "cell_type": "code",
   "execution_count": 27,
   "metadata": {},
   "outputs": [
    {
     "data": {
      "text/plain": [
       "8"
      ]
     },
     "execution_count": 27,
     "metadata": {},
     "output_type": "execute_result"
    }
   ],
   "source": [
    "edges = {\n",
    "    1: [Edge(2, 1), Edge(3, 2), Edge(4, 10)],\n",
    "    2: [Edge(3, 1), Edge(4, 7)], \n",
    "    3: [Edge(4, 6)],\n",
    "    4: [],\n",
    "}\n",
    "\n",
    "start = 1\n",
    "finish = 4\n",
    "\n",
    "solution(start, finish, edges)"
   ]
  }
 ],
 "metadata": {
  "kernelspec": {
   "display_name": "Python 3",
   "language": "python",
   "name": "python3"
  },
  "language_info": {
   "codemirror_mode": {
    "name": "ipython",
    "version": 3
   },
   "file_extension": ".py",
   "mimetype": "text/x-python",
   "name": "python",
   "nbconvert_exporter": "python",
   "pygments_lexer": "ipython3",
   "version": "3.7.3"
  }
 },
 "nbformat": 4,
 "nbformat_minor": 2
}
