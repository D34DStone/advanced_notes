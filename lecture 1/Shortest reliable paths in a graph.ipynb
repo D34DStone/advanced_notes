{
 "cells": [
  {
   "cell_type": "markdown",
   "metadata": {},
   "source": [
    "# Кратчайшие надежные пути в ориентированных ациклических графах\n",
    "\n",
    "### Постановка задачи\n",
    "Дан ациклический ореинтированный взвешенный граф, необходим найти вес минимального пути, который проходит через меньше или $k$ вершин, начинается в вершине $s$ и заканчивается в вершине $f$.\n",
    "\n",
    "### Решение\n",
    "Пусть $D_{v,i}$ - длина минимального пути из $v$ в $t$, который проходит ровно через $i$ вершин. Несложно заметить, что $D_{v,i} = \\min\\limits_{e \\in E}\\{D_{e_{dest}, i-1} + e_{cost}\\}$.\n",
    "\n",
    "Запишем формально:\n",
    "\n",
    "$$\n",
    "solve(s, i) = \n",
    "\\left\\{ \n",
    "\\begin{array}{lr}\n",
    "    0, s = f \\\\ \n",
    "    \\min\\limits_{e \\in E}\\{solve(e_{dest}, i - 1) + e_{cost}\\}\n",
    "\\end{array}\n",
    "\\right. \n",
    "$$\n",
    "Где $E$ - все ребра исходящие из $s$.\n",
    "\n",
    "Ответом будет $\\min\\limits_{0 \\le i \\le k}D_{s,i}$.\n",
    "\n",
    "### Асимпотика\n",
    "Сложность решения: $O(nk)$, где $n$ - количество вершин в графе, а $k$ - максимальное допустимое количество вершин на пути.\n",
    "\n",
    "### Реализация\n",
    "Реализация очень похожа на код в других урок"
   ]
  },
  {
   "cell_type": "code",
   "execution_count": null,
   "metadata": {},
   "outputs": [],
   "source": []
  }
 ],
 "metadata": {
  "kernelspec": {
   "display_name": "Python 3",
   "language": "python",
   "name": "python3"
  },
  "language_info": {
   "codemirror_mode": {
    "name": "ipython",
    "version": 3
   },
   "file_extension": ".py",
   "mimetype": "text/x-python",
   "name": "python",
   "nbconvert_exporter": "python",
   "pygments_lexer": "ipython3",
   "version": "3.7.3"
  }
 },
 "nbformat": 4,
 "nbformat_minor": 2
}
