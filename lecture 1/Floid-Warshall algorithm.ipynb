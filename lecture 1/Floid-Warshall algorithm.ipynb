{
 "cells": [
  {
   "cell_type": "markdown",
   "metadata": {},
   "source": [
    "# Алгоритм Флойда и Воршалла"
   ]
  },
  {
   "cell_type": "markdown",
   "metadata": {},
   "source": [
    "## Алгоритм Воршалла\n",
    "### Определение\n",
    "Алгоритм создан для нахождения транзитивного замыкания ореинтированого графа(матрица достижимости). Простыми словами, если $M_{i, j} = 1$, то можно построить путь из вершины $i$ в вершину $j$.\n",
    "\n",
    "Пусть $M$ - матрица смежности. $M_{i, j} = \n",
    "\\left\\{\n",
    "\\begin{array}{lr}\n",
    "1, i→j;\\\\\n",
    "0\n",
    "\\end{array}\n",
    "\\right.\n",
    "$\n",
    "\n",
    "Рассмотрим вершины $k, i, j$. От вершины $i$ можно добраться до вершины $j$ если можно добраться от вершины $i$ до $k$ и от $k$ до $j$. Т.е. $M_{i, j} = M_{i, j} ∨ (M_{i, k} ∧ M_{k, i})$\n",
    "\n",
    "Давайте переберем $k$ и все пары $(i, j)$. Для каждой пары будем перебирать $k$ и проводить релаксации$^{[1]}$.\n",
    "\n",
    "### Доказательство\n",
    "Допустим, мы перебрали все $k: k < k_1$ => мы нашли все пути $W$, где $W_i ≤ k$. Давайте рассмотрим итерацию, где $k = k_1$. Таким образом на итерации $k = k_1$ мы найдем все пути $W: W_i ≤ k_1$. Несложно доказать, что после 1-й итерации действительно будут найдены все пути вида $a→1→b$. Таким образом, мы доказали базу и переход, т.е. к $n$-й итерации, мы найдем все пути.\n",
    "\n",
    "### Асимптотика\n",
    "Очевидно, асимптотика этого алгоритма это $O(n^3)$.\n",
    "\n",
    "Давайте реализуем этот алгоритм:"
   ]
  },
  {
   "cell_type": "code",
   "execution_count": 10,
   "metadata": {},
   "outputs": [],
   "source": [
    "def solution(M):\n",
    "    n = len(M)\n",
    "    result = M.copy()\n",
    "    for k in range(n):\n",
    "        for i in range(n):\n",
    "            for j in range(n):\n",
    "                result[i][j] = result[i][j] or (result[i][k] and result[k][j])\n",
    "            \n",
    "    return result"
   ]
  },
  {
   "cell_type": "code",
   "execution_count": 11,
   "metadata": {},
   "outputs": [
    {
     "name": "stdout",
     "output_type": "stream",
     "text": [
      "[[1, 1, 1, 1, 1], [0, 1, 1, 1, 1], [0, 1, 1, 1, 1], [0, 1, 1, 1, 1], [0, 0, 0, 0, 1]]\n"
     ]
    }
   ],
   "source": [
    "M = [\n",
    "    [1, 1, 1, 0, 0],\n",
    "    [0, 1, 0, 1, 1],\n",
    "    [0, 1, 1, 0, 1],\n",
    "    [0, 0, 1, 1, 0],\n",
    "    [0, 0, 0, 0, 1],\n",
    "]\n",
    "\n",
    "print(solution(M))"
   ]
  },
  {
   "cell_type": "code",
   "execution_count": null,
   "metadata": {},
   "outputs": [],
   "source": []
  }
 ],
 "metadata": {
  "kernelspec": {
   "display_name": "Python 3",
   "language": "python",
   "name": "python3"
  },
  "language_info": {
   "codemirror_mode": {
    "name": "ipython",
    "version": 3
   },
   "file_extension": ".py",
   "mimetype": "text/x-python",
   "name": "python",
   "nbconvert_exporter": "python",
   "pygments_lexer": "ipython3",
   "version": "3.7.3"
  }
 },
 "nbformat": 4,
 "nbformat_minor": 2
}
