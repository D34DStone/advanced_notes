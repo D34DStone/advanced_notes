{
 "cells": [
  {
   "cell_type": "markdown",
   "metadata": {},
   "source": [
    "# Задача о количестве путей в ациклическом ореинтированом графе\n"
   ]
  },
  {
   "cell_type": "markdown",
   "metadata": {},
   "source": [
    "### Наивное решение:\n",
    "Давайте рассмотрим все пути в графе, который начинаются в вершине $s$. Пусть $solve(s)$ - количество путей до вершины $t$ из вершины $s$. Очевидно, что количество путей от $s$ до $t$ равно сумме путей между детьми вершины до $t$. Запишем это формально:\n",
    "\n",
    "$$\n",
    "solve(s) = \n",
    "\\left\\{ \n",
    "\\begin{array}{lr}\n",
    "    1, s = t \\\\ \n",
    "    \\sum_{v:s→v}solve(v)\n",
    "\\end{array}\n",
    "\\right. \n",
    "$$\n",
    "\n",
    "Однако решение будет достаточно медленное. Можно придумать графы, на которых необходимо будет сделать $2^{n/2}$ итераций."
   ]
  },
  {
   "cell_type": "code",
   "execution_count": 11,
   "metadata": {},
   "outputs": [],
   "source": [
    "def solve(s, f, edges):\n",
    "    if s == f:\n",
    "        return 1\n",
    "    \n",
    "    result = 0\n",
    "    for v in edges[s]:\n",
    "        result += solve(v, f, edges)\n",
    "        \n",
    "    return result"
   ]
  },
  {
   "cell_type": "code",
   "execution_count": 10,
   "metadata": {},
   "outputs": [
    {
     "name": "stdout",
     "output_type": "stream",
     "text": [
      "4\n"
     ]
    }
   ],
   "source": [
    "edges = {\n",
    "    1: [2, 3, 4],\n",
    "    2: [3, 4], \n",
    "    3: [4]\n",
    "}\n",
    "\n",
    "start = 1\n",
    "finish = 4\n",
    "\n",
    "print(solve(start, finish, edges))"
   ]
  },
  {
   "cell_type": "markdown",
   "metadata": {},
   "source": [
    "### Кэширование результатов\n",
    "Можно заметить, что походу исполнения нашего решения, функция ```solve``` может быть вызванна несколько раз с одинковыми входными аргументами. (Изменяется только параметр $s$). Давайте перепишем эту функицю:"
   ]
  },
  {
   "cell_type": "code",
   "execution_count": 26,
   "metadata": {},
   "outputs": [],
   "source": [
    "def solve(s, f, edges):\n",
    "    cache = {f: 1}\n",
    "    \n",
    "    def dfs(s):\n",
    "        if not s in cache:\n",
    "            cache[s] = sum(map(dfs, edges[s]))\n",
    "        \n",
    "        return cache[s]\n",
    "        \n",
    "    return dfs(s)"
   ]
  },
  {
   "cell_type": "code",
   "execution_count": 27,
   "metadata": {},
   "outputs": [
    {
     "name": "stdout",
     "output_type": "stream",
     "text": [
      "4\n"
     ]
    }
   ],
   "source": [
    "edges = {\n",
    "    1: [2, 3, 4],\n",
    "    2: [3, 4], \n",
    "    3: [4]\n",
    "}\n",
    "\n",
    "start = 1\n",
    "finish = 4\n",
    "\n",
    "print(solve(start, finish, edges))"
   ]
  },
  {
   "cell_type": "markdown",
   "metadata": {},
   "source": [
    "Таким образом асимптотика нашего решения будет $O(n)$, где $n$ - количество вершин в данном графе. Это верно т.к. каждую вершину мы не будем обрабатывать более чем 1 раз."
   ]
  }
 ],
 "metadata": {
  "kernelspec": {
   "display_name": "Python 3",
   "language": "python",
   "name": "python3"
  },
  "language_info": {
   "codemirror_mode": {
    "name": "ipython",
    "version": 3
   },
   "file_extension": ".py",
   "mimetype": "text/x-python",
   "name": "python",
   "nbconvert_exporter": "python",
   "pygments_lexer": "ipython3",
   "version": "3.7.3"
  }
 },
 "nbformat": 4,
 "nbformat_minor": 2
}
